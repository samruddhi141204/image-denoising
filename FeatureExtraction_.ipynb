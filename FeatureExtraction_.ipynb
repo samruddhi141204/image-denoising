{
  "cells": [
    {
      "cell_type": "markdown",
      "metadata": {
        "id": "view-in-github",
        "colab_type": "text"
      },
      "source": [
        "<a href=\"https://colab.research.google.com/github/samruddhi141204/image-denoising/blob/main/FeatureExtraction_.ipynb\" target=\"_parent\"><img src=\"https://colab.research.google.com/assets/colab-badge.svg\" alt=\"Open In Colab\"/></a>"
      ]
    },
    {
      "cell_type": "code",
      "execution_count": 13,
      "metadata": {
        "colab": {
          "base_uri": "https://localhost:8080/"
        },
        "id": "W8RMQ4D5Ewe5",
        "outputId": "df3e728a-65ea-4877-d082-685767708fdc"
      },
      "outputs": [
        {
          "output_type": "stream",
          "name": "stdout",
          "text": [
            "Drive already mounted at /content/drive; to attempt to forcibly remount, call drive.mount(\"/content/drive\", force_remount=True).\n"
          ]
        }
      ],
      "source": [
        "from google.colab import drive\n",
        "drive.mount('/content/drive')"
      ]
    },
    {
      "cell_type": "code",
      "execution_count": 14,
      "metadata": {
        "id": "AcgkbThOPBbA"
      },
      "outputs": [],
      "source": [
        "import os\n",
        "import glob\n",
        "import librosa\n",
        "import librosa.display\n",
        "import numpy as np\n",
        "import pandas as pd\n",
        "import matplotlib.pyplot as plt\n",
        "from sklearn.preprocessing import LabelEncoder\n",
        "from sklearn.model_selection import train_test_split\n",
        "from sklearn.metrics import classification_report, confusion_matrix\n",
        "from PIL import Image\n",
        "from tqdm import tqdm\n",
        "\n",
        "import torch\n",
        "import torch.nn as nn\n",
        "import torch.optim as optim\n",
        "from torch.utils.data import Dataset, DataLoader\n",
        "from torchvision import transforms"
      ]
    },
    {
      "cell_type": "code",
      "execution_count": 15,
      "metadata": {
        "id": "Ku-3b7qIOvlQ"
      },
      "outputs": [],
      "source": [
        "base_path = \"/content/drive/MyDrive/audio_dataset\"\n",
        "song_path = os.path.join(base_path, \"songs\")\n",
        "speech_path = os.path.join(base_path, \"speech\")"
      ]
    },
    {
      "cell_type": "code",
      "execution_count": 16,
      "metadata": {
        "id": "kPD_ko3GOwqu"
      },
      "outputs": [],
      "source": [
        "def load_audio_paths(base_dir, audio_type):\n",
        "    data = []\n",
        "    for actor_folder in os.listdir(base_dir):\n",
        "        actor_path = os.path.join(base_dir, actor_folder)\n",
        "        if os.path.isdir(actor_path):\n",
        "            for wav_file in glob.glob(actor_path + \"/*.wav\"):\n",
        "                filename = os.path.basename(wav_file)\n",
        "                trial_id = filename.replace(\".wav\", \"\")\n",
        "                data.append({\n",
        "                    \"filepath\": wav_file,\n",
        "                    \"actor\": actor_folder,\n",
        "                    \"trial\": trial_id,\n",
        "                    \"type\": audio_type\n",
        "                })\n",
        "    return data"
      ]
    },
    {
      "cell_type": "code",
      "execution_count": 17,
      "metadata": {
        "colab": {
          "base_uri": "https://localhost:8080/"
        },
        "id": "bAOVpuKeOwtS",
        "outputId": "b5cfa6c1-abfd-49d3-b13b-b4ede97c59bc"
      },
      "outputs": [
        {
          "output_type": "stream",
          "name": "stdout",
          "text": [
            "Total audio files: 2452\n"
          ]
        }
      ],
      "source": [
        "song_data = load_audio_paths(song_path, \"song\")\n",
        "speech_data = load_audio_paths(speech_path, \"speech\")\n",
        "df = pd.DataFrame(song_data + speech_data)\n",
        "print(\"Total audio files:\", len(df))\n"
      ]
    },
    {
      "cell_type": "code",
      "execution_count": 19,
      "metadata": {
        "colab": {
          "base_uri": "https://localhost:8080/"
        },
        "id": "VE4ViX1lOoX4",
        "outputId": "57f3d0b8-695a-48a9-aa64-eaa082ad7777"
      },
      "outputs": [
        {
          "output_type": "stream",
          "name": "stderr",
          "text": [
            "100%|██████████| 2452/2452 [10:45<00:00,  3.80it/s]\n"
          ]
        }
      ],
      "source": [
        "img_size = (128, 128)\n",
        "spectrogram_dir = \"/content/drive/MyDrive/audio_dataset/spectrograms_final1\"\n",
        "os.makedirs(spectrogram_dir, exist_ok=True)\n",
        "spectrogram_paths = []\n",
        "labels = []\n",
        "\n",
        "for i, row in tqdm(df.iterrows(), total=len(df)):\n",
        "    y, sr = librosa.load(row['filepath'], sr=22050)\n",
        "    S = librosa.feature.melspectrogram(y=y, sr=sr)\n",
        "    S_DB = librosa.power_to_db(S, ref=np.max)\n",
        "\n",
        "    fig = plt.figure(figsize=(2, 2))\n",
        "    librosa.display.specshow(S_DB, sr=sr, x_axis='time', y_axis='mel')\n",
        "    plt.axis('off')\n",
        "    image_name = f\"{row['actor']}_{row['trial']}_{row['type']}.png\"\n",
        "    full_path = os.path.join(spectrogram_dir, image_name)\n",
        "    fig.savefig(full_path, bbox_inches='tight', pad_inches=0)\n",
        "    plt.close(fig)\n",
        "\n",
        "    spectrogram_paths.append(full_path)\n",
        "    labels.append(row['type'])\n",
        "\n",
        "# Encode labels\n",
        "le = LabelEncoder()\n",
        "encoded_labels = le.fit_transform(labels)"
      ]
    }
  ],
  "metadata": {
    "colab": {
      "provenance": [],
      "authorship_tag": "ABX9TyOTAYn0u5GBJ65zqdTaJ3LE",
      "include_colab_link": true
    },
    "kernelspec": {
      "display_name": "Python 3",
      "name": "python3"
    },
    "language_info": {
      "name": "python"
    }
  },
  "nbformat": 4,
  "nbformat_minor": 0
}